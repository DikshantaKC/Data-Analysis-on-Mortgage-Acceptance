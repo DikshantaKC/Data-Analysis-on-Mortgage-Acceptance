{
 "cells": [
  {
   "cell_type": "markdown",
   "metadata": {},
   "source": [
    "## ISDS 7070 Deliverable 2\n",
    "**Names: Raquel Domingos, Dikshanta KC, Patrick Kilshaw \n",
    "--22nd June 2021 ** "
   ]
  },
  {
   "cell_type": "code",
   "execution_count": 1,
   "metadata": {},
   "outputs": [],
   "source": [
    "# import packages here.\n",
    "import pandas as pd\n",
    "import numpy as np\n",
    "import matplotlib.pyplot as plt\n",
    "import seaborn as sns\n",
    "from sklearn import metrics\n",
    "from sklearn.ensemble import RandomForestRegressor\n",
    "from sklearn.preprocessing import LabelEncoder\n",
    "from sklearn.metrics import mean_squared_error, r2_score\n",
    "from sklearn.model_selection import train_test_split\n",
    "from sklearn.tree import export_graphviz\n",
    "from sklearn import tree\n",
    "from sklearn.tree import DecisionTreeClassifier, plot_tree\n",
    "from sklearn.metrics import accuracy_score, confusion_matrix\n",
    "import dexplot as dxp\n",
    "from sklearn.feature_selection import SelectKBest\n",
    "from sklearn.feature_selection import chi2\n",
    "from sklearn.preprocessing import StandardScaler\n",
    "from sklearn.decomposition import PCA\n",
    "from sklearn.ensemble import RandomForestClassifier\n",
    "from sklearn.naive_bayes import GaussianNB\n",
    "from sklearn.model_selection import GridSearchCV\n",
    "from sklearn.model_selection import cross_validate\n",
    "# Figures inline and set visualization style\n",
    "%matplotlib inline\n",
    "sns.set()"
   ]
  },
  {
   "cell_type": "code",
   "execution_count": 2,
   "metadata": {},
   "outputs": [],
   "source": [
    "#data imported\n",
    "df_data = pd.read_csv(\"la_loans.csv\")"
   ]
  },
  {
   "cell_type": "markdown",
   "metadata": {},
   "source": [
    "EDA - Distribution and Outliers - Tukey's method defined as a funtion to identify possibe and probable outliers\n",
    "#References: https://towardsdatascience.com/detecting-and-treating-outliers-in-python-part-1-4ece5098b755 \n"
   ]
  },
  {
   "cell_type": "code",
   "execution_count": 3,
   "metadata": {},
   "outputs": [],
   "source": [
    "#Tukey's method\n",
    "def tukeys_method(df, variable):\n",
    "    #Takes two parameters: dataframe & variable of interest as string\n",
    "    q1 = df[variable].quantile(0.25)\n",
    "    q3 = df[variable].quantile(0.75)\n",
    "    iqr = q3-q1\n",
    "    inner_fence = 1.5*iqr\n",
    "    outer_fence = 3*iqr\n",
    "    \n",
    "    #inner fence lower and upper end\n",
    "    inner_fence_le = q1-inner_fence\n",
    "    inner_fence_ue = q3+inner_fence\n",
    "    \n",
    "    #outer fence lower and upper end\n",
    "    outer_fence_le = q1-outer_fence\n",
    "    outer_fence_ue = q3+outer_fence\n",
    "    \n",
    "    outliers_prob = []\n",
    "    outliers_poss = []\n",
    "    for index, x in enumerate(df[variable]):\n",
    "        if x <= outer_fence_le or x >= outer_fence_ue:\n",
    "            outliers_prob.append(index)\n",
    "    for index, x in enumerate(df[variable]):\n",
    "        if x <= inner_fence_le or x >= inner_fence_ue:\n",
    "            outliers_poss.append(index)\n",
    "    return outliers_prob, outliers_poss"
   ]
  },
  {
   "cell_type": "code",
   "execution_count": 4,
   "metadata": {},
   "outputs": [
    {
     "name": "stdout",
     "output_type": "stream",
     "text": [
      "<class 'pandas.core.frame.DataFrame'>\n",
      "RangeIndex: 148996 entries, 0 to 148995\n",
      "Data columns (total 29 columns):\n",
      " #   Column                          Non-Null Count   Dtype  \n",
      "---  ------                          --------------   -----  \n",
      " 0   app_accepted                    148996 non-null  int64  \n",
      " 1   respondent_id                   148996 non-null  object \n",
      " 2   agency_name                     148996 non-null  object \n",
      " 3   agency_abbr                     148996 non-null  object \n",
      " 4   loan_type_name                  148996 non-null  object \n",
      " 5   property_type_name              148996 non-null  object \n",
      " 6   loan_purpose_name               148996 non-null  object \n",
      " 7   owner_occupancy_name            148996 non-null  object \n",
      " 8   loan_amount_000s                148996 non-null  int64  \n",
      " 9   preapproval_name                148996 non-null  object \n",
      " 10  applicant_ethnicity_name        148996 non-null  object \n",
      " 11  co_applicant_ethnicity_name     148996 non-null  object \n",
      " 12  applicant_race_name_1           148996 non-null  object \n",
      " 13  applicant_race_name_2           714 non-null     object \n",
      " 14  co_applicant_race_name_1        148996 non-null  object \n",
      " 15  co_applicant_race_name_2        225 non-null     object \n",
      " 16  applicant_sex_name              148996 non-null  object \n",
      " 17  applicant_sex                   148996 non-null  int64  \n",
      " 18  co_applicant_sex_name           148996 non-null  object \n",
      " 19  applicant_income_000s           135141 non-null  float64\n",
      " 20  purchaser_type_name             148996 non-null  object \n",
      " 21  hoepa_status_name               148996 non-null  object \n",
      " 22  lien_status_name                148996 non-null  object \n",
      " 23  population                      145715 non-null  float64\n",
      " 24  minority_population             145715 non-null  float64\n",
      " 25  hud_median_family_income        145715 non-null  float64\n",
      " 26  tract_to_msamd_income           145715 non-null  float64\n",
      " 27  number_of_owner_occupied_units  145715 non-null  float64\n",
      " 28  number_of_1_to_4_family_units   145715 non-null  float64\n",
      "dtypes: float64(7), int64(3), object(19)\n",
      "memory usage: 33.0+ MB\n"
     ]
    }
   ],
   "source": [
    "df_data.info()"
   ]
  },
  {
   "cell_type": "code",
   "execution_count": 5,
   "metadata": {},
   "outputs": [],
   "source": [
    "#Binning of Categorical Variables - Shows the relative frequency at which each category has a loan application accepted or denied\n",
    "# Category values which have similar proportions of accepted and denied were binned together.\n",
    "#Categorical variables were limited to five unique values to limit exessive model training times.\n",
    "df_data['agency_abbr'] = df_data['agency_abbr'].replace({'FRS' : 'OCC'})\n",
    "df_data['applicant_race_name_1'] = df_data['applicant_race_name_1'].replace({'Native Hawaiian or Other Pacific Islander' : 'White'})\n",
    "df_data['applicant_race_name_1'] = df_data['applicant_race_name_1'].replace({'Asian' : 'White'})\n",
    "df_data['applicant_race_name_1'] = df_data['applicant_race_name_1'].replace({'Black or African American' : 'American Indian or Alaska Native'})\n",
    "df_data['co_applicant_race_name_1'] = df_data['co_applicant_race_name_1'].replace({'Native Hawaiian or Other Pacific Islander' : 'White'})\n",
    "df_data['co_applicant_race_name_1'] = df_data['co_applicant_race_name_1'].replace({'Asian' : 'White'})\n",
    "df_data['co_applicant_race_name_1'] = df_data['co_applicant_race_name_1'].replace({'Black or African American' : 'American Indian or Alaska Native'})"
   ]
  },
  {
   "cell_type": "code",
   "execution_count": 6,
   "metadata": {},
   "outputs": [],
   "source": [
    "# Fill missing values with mean column values \n",
    "#data.fillna(data.mean(), inplace=True)\n",
    "# calculates the mean of each column with missing data and assigns it to an object\n",
    "avg_applicant_income_000s = df_data[\"applicant_income_000s\"].mean()\n",
    "avg_population = df_data[\"population\"].mean()\n",
    "avg_minority_population = df_data[\"minority_population\"].mean()\n",
    "avg_hud_median_family_income  = df_data[\"hud_median_family_income\"].mean()\n",
    "avg_tract_to_msamd_income = df_data[\"tract_to_msamd_income\"].mean()\n",
    "avg_number_of_owner_occupied_units = df_data[\"number_of_owner_occupied_units\"].mean()\n",
    "avg_number_of_1_to_4_family_units  = df_data[\"number_of_1_to_4_family_units\"].mean()\n",
    "\n",
    "#Replaces missing datapoints with the average (mean) for that column\n",
    "df_data[\"applicant_income_000s\"].replace(np.nan, avg_applicant_income_000s, inplace=True)\n",
    "df_data[\"population\"].replace(np.nan, avg_population, inplace=True)\n",
    "df_data[\"minority_population\"].replace(np.nan, avg_minority_population, inplace=True)\n",
    "df_data[\"hud_median_family_income\"].replace(np.nan, avg_hud_median_family_income, inplace=True)\n",
    "df_data[\"tract_to_msamd_income\"].replace(np.nan, avg_tract_to_msamd_income, inplace=True)\n",
    "df_data[\"number_of_owner_occupied_units\"].replace(np.nan, avg_number_of_owner_occupied_units, inplace=True)\n",
    "df_data[\"number_of_1_to_4_family_units\"].replace(np.nan, avg_number_of_1_to_4_family_units, inplace=True)"
   ]
  },
  {
   "cell_type": "markdown",
   "metadata": {},
   "source": [
    "EDA - Distribution and Outliers - Probable and Possible Outliers Identified for each variable. Probable Outliers Removed.\n",
    "#All numeric variables, other than hud_median_family_income, contained outliers."
   ]
  },
  {
   "cell_type": "code",
   "execution_count": 7,
   "metadata": {},
   "outputs": [],
   "source": [
    "\n",
    "#All probable outlierz assumed to be an error.\n",
    "df_data_outliers_included = df_data\n",
    "\n",
    "probable_outliers_LA, possible_outliers_LA = tukeys_method(df_data, \"loan_amount_000s\")\n",
    "df_data = df_data.drop(df_data.index[probable_outliers_LA])\n",
    "probable_outliers_AS, possible_outliers_AS = tukeys_method(df_data, \"applicant_sex\")\n",
    "df_data = df_data.drop(df_data.index[probable_outliers_AS])\n",
    "probable_outliers_AI, possible_outliers_AI = tukeys_method(df_data, \"applicant_income_000s\")\n",
    "df_data = df_data.drop(df_data.index[probable_outliers_AI])\n",
    "probable_outliers_P, possible_outliers_P = tukeys_method(df_data, \"population\")\n",
    "df_data = df_data.drop(df_data.index[probable_outliers_P])\n",
    "probable_outliers_MP, possible_outliers_MP = tukeys_method(df_data, \"minority_population\")\n",
    "df_data = df_data.drop(df_data.index[probable_outliers_MP])\n",
    "probable_outliers_MSAMD, possible_outliers_MSAMD = tukeys_method(df_data, \"tract_to_msamd_income\")\n",
    "df_data = df_data.drop(df_data.index[probable_outliers_MSAMD])\n",
    "probable_outliers_OO, possible_outliers_OO = tukeys_method(df_data, \"number_of_owner_occupied_units\")\n",
    "df_data = df_data.drop(df_data.index[probable_outliers_OO])\n",
    "probable_outliers_FU, possible_outliers_FU = tukeys_method(df_data, \"number_of_1_to_4_family_units\")\n",
    "df_data = df_data.drop(df_data.index[probable_outliers_FU])"
   ]
  },
  {
   "cell_type": "code",
   "execution_count": 8,
   "metadata": {},
   "outputs": [],
   "source": [
    "# deleted applicant_race_name_2 and co_applicant_race_name_2 which each had over 99% missing data\n",
    "del df_data['applicant_race_name_2']\n",
    "del df_data['co_applicant_race_name_2'] \n",
    "\n",
    "#Deleted agency_name, used agency_abbr in its place. Deleted applicant_sex_name, used applicant_sex in its place.\n",
    "del df_data['agency_name'] \n",
    "del df_data['applicant_sex_name']\n",
    "\n",
    "#drop respondent_id column\n",
    "del df_data['respondent_id']\n",
    "\n",
    "#Purchaser_type_name was dropped as it appears to be dependent on the outcome variable. See mosaic plot analysis in milestone 1.\n",
    "del df_data['purchaser_type_name']"
   ]
  },
  {
   "cell_type": "code",
   "execution_count": 9,
   "metadata": {},
   "outputs": [],
   "source": [
    "del df_data_outliers_included['applicant_race_name_2']\n",
    "del df_data_outliers_included['co_applicant_race_name_2'] \n",
    "del df_data_outliers_included['agency_name'] \n",
    "del df_data_outliers_included['applicant_sex_name']\n",
    "del df_data_outliers_included['respondent_id']\n",
    "del df_data_outliers_included['purchaser_type_name']"
   ]
  },
  {
   "cell_type": "code",
   "execution_count": 10,
   "metadata": {},
   "outputs": [],
   "source": [
    "#Numerical Data Saved in a separate data frame\n",
    "df_data_Numerical = df_data[[\"loan_amount_000s\", \"number_of_1_to_4_family_units\", \"applicant_income_000s\", \"population\", \"minority_population\", \"hud_median_family_income\", \"tract_to_msamd_income\", \"number_of_owner_occupied_units\"]]"
   ]
  },
  {
   "cell_type": "code",
   "execution_count": 11,
   "metadata": {},
   "outputs": [],
   "source": [
    "#Feature Seletion - Data normalized and saved in a separate data fram prior to creating dummies\n",
    "scaler = StandardScaler()\n",
    "scaler.fit(df_data_Numerical)\n",
    "normalData = scaler.transform(df_data_Numerical)"
   ]
  },
  {
   "cell_type": "code",
   "execution_count": 12,
   "metadata": {},
   "outputs": [],
   "source": [
    "#Verification - Predicted variable saved separate from dataframe. Dummy Variables assigned.\n",
    "y = df_data.app_accepted\n",
    "y2 = df_data_outliers_included.app_accepted\n",
    "df_data = df_data.drop('app_accepted', axis=1)\n",
    "df_data_outliers_included = df_data_outliers_included.drop('app_accepted', axis=1)\n",
    "\n",
    "#df_data = pd.get_dummies(df_data, columns=['agency_abbr', 'loan_type_name', 'property_type_name', 'loan_purpose_name', 'owner_occupancy_name', 'preapproval_name', 'applicant_ethnicity_name', 'co_applicant_ethnicity_name', 'applicant_race_name_1' , 'co_applicant_race_name_1', 'co_applicant_sex_name', 'hoepa_status_name', 'lien_status_name', \"loanAmount\", \"number_of_1_to_4_family_units\", \"ApplicantIncome\", \"population\", \"minority_population\", \"hud_median_family_income\", \"tract_to_msamd_income\", \"number_of_owner_occupied_units\"], drop_first=True)\n",
    "df_data = pd.get_dummies(df_data, columns=['agency_abbr', 'loan_type_name', 'property_type_name', 'loan_purpose_name', 'owner_occupancy_name', 'preapproval_name', 'applicant_ethnicity_name', 'co_applicant_ethnicity_name', 'applicant_race_name_1' , 'co_applicant_race_name_1', 'co_applicant_sex_name', 'hoepa_status_name', 'lien_status_name'], drop_first=True)\n",
    "df_data_outliers_included = pd.get_dummies(df_data_outliers_included, columns=['agency_abbr', 'loan_type_name', 'property_type_name', 'loan_purpose_name', 'owner_occupancy_name', 'preapproval_name', 'applicant_ethnicity_name', 'co_applicant_ethnicity_name', 'applicant_race_name_1' , 'co_applicant_race_name_1', 'co_applicant_sex_name', 'hoepa_status_name', 'lien_status_name'], drop_first=True)"
   ]
  },
  {
   "cell_type": "code",
   "execution_count": 13,
   "metadata": {},
   "outputs": [],
   "source": [
    "#Predictors assigned to object. Train/test split created.\n",
    "#Predictors Subset\n",
    "df_data_predictors = df_data[[\"population\", \"loan_amount_000s\", \"number_of_owner_occupied_units\", \"applicant_income_000s\", \"number_of_1_to_4_family_units\", \"minority_population\", \"tract_to_msamd_income\", \"agency_abbr_FDIC\", \"hud_median_family_income\"]] #\"applicant_ethnicity_name_Information not provided by applicant in mail, Internet, or telephone application\", \"applicant_ethnicity_name_Not applicable\", \"preapproval_name_Preapproval was not requested\", \"agency_abbr_HUD\", \"owner_occupancy_name_Not owner-occupied as a principal dwelling\", \"property_type_name_One-to-four family dwelling (other than manufactured housing)\" , \"agency_abbr_OCC\", \"co_applicant_race_name_1_White\" ,\"co_applicant_ethnicity_name_Not Hispanic or Latino\",\"co_applicant_ethnicity_name_Information not provided by applicant in mail, Internet, or telephone application\", \"applicant_race_name_1_White\", \"loan_purpose_name_Refinancing\", \"loan_purpose_name_Home purchase\"]]\n",
    "X = df_data\n",
    "X_train, X_test, y_train, y_test = train_test_split(X, y, test_size=0.15, random_state=23)"
   ]
  },
  {
   "cell_type": "code",
   "execution_count": 14,
   "metadata": {},
   "outputs": [
    {
     "name": "stdout",
     "output_type": "stream",
     "text": [
      "                                                Specs          Score\n",
      "3                                          population  264095.821410\n",
      "0                                    loan_amount_000s  212712.708335\n",
      "7                      number_of_owner_occupied_units  135790.497306\n",
      "2                               applicant_income_000s   89845.259358\n",
      "8                       number_of_1_to_4_family_units   67837.370574\n",
      "4                                 minority_population   18632.063533\n",
      "6                               tract_to_msamd_income   13580.280448\n",
      "9                                    agency_abbr_FDIC    3693.465364\n",
      "5                            hud_median_family_income    3240.930375\n",
      "24  applicant_ethnicity_name_Information not provi...    2877.095179\n",
      "32               applicant_race_name_1_Not applicable    2617.932142\n",
      "26            applicant_ethnicity_name_Not applicable    2583.173212\n",
      "22     preapproval_name_Preapproval was not requested    2207.010106\n",
      "10                                    agency_abbr_HUD    1886.335014\n",
      "20  owner_occupancy_name_Not owner-occupied as a p...    1315.872587\n",
      "17  property_type_name_One-to-four family dwelling...    1255.729731\n",
      "12                                    agency_abbr_OCC    1203.074533\n",
      "37                     co_applicant_race_name_1_White    1151.407506\n",
      "31  applicant_race_name_1_Information not provided...    1018.353321\n",
      "29  co_applicant_ethnicity_name_Not Hispanic or La...     873.038098\n",
      "27  co_applicant_ethnicity_name_Information not pr...     834.561228\n",
      "33                        applicant_race_name_1_White     750.572604\n",
      "19                      loan_purpose_name_Refinancing     746.453224\n",
      "18                    loan_purpose_name_Home purchase     627.826126\n",
      "14                  loan_type_name_FSA/RHS-guaranteed     296.321042\n",
      "34  co_applicant_race_name_1_Information not provi...     166.490988\n",
      "40              co_applicant_sex_name_No co-applicant     164.639316\n",
      "35           co_applicant_race_name_1_No co-applicant     164.639316\n",
      "28        co_applicant_ethnicity_name_No co-applicant     164.639316\n",
      "21  owner_occupancy_name_Owner-occupied as a princ...     157.638074\n",
      "25    applicant_ethnicity_name_Not Hispanic or Latino     116.161423\n",
      "38  co_applicant_sex_name_Information not provided...      97.661135\n",
      "16            property_type_name_Multifamily dwelling      50.022660\n",
      "13                         loan_type_name_FHA-insured      43.848100\n",
      "15                       loan_type_name_VA-guaranteed      39.098282\n",
      "11                                   agency_abbr_NCUA      28.324193\n",
      "1                                       applicant_sex      12.371821\n",
      "30         co_applicant_ethnicity_name_Not applicable      12.180597\n",
      "41               co_applicant_sex_name_Not applicable       6.198295\n",
      "39                         co_applicant_sex_name_Male       6.058195\n",
      "44     lien_status_name_Secured by a subordinate lien       5.077058\n",
      "36            co_applicant_race_name_1_Not applicable       1.749129\n",
      "23         preapproval_name_Preapproval was requested       1.425905\n",
      "42                 hoepa_status_name_Not a HOEPA loan       0.213764\n",
      "43           lien_status_name_Secured by a first lien       0.124333\n"
     ]
    }
   ],
   "source": [
    "#Feature Seletion\n",
    "#references https://towardsdatascience.com/feature-selection-techniques-in-machine-learning-with-python-f24e7da3f36e\n",
    "\n",
    "#SelectKBest used to find best features\n",
    "BestFeatures = SelectKBest(score_func=chi2, k=45) #can do all for k\n",
    "fit = BestFeatures.fit(X, y)\n",
    "dfscores = pd.DataFrame(fit.scores_)\n",
    "dfcolumns = pd.DataFrame(X_train.columns)\n",
    "#concat two dataframes for better visualization \n",
    "featureScores = pd.concat([dfcolumns,dfscores],axis=1)\n",
    "featureScores.columns = ['Specs','Score']  #naming the dataframe columns\n",
    "print(featureScores.nlargest(45,'Score'))  #prints all features ranke by score"
   ]
  },
  {
   "cell_type": "code",
   "execution_count": 15,
   "metadata": {},
   "outputs": [
    {
     "name": "stdout",
     "output_type": "stream",
     "text": [
      "Accuracy: 0.64317\n"
     ]
    }
   ],
   "source": [
    "#Naive Bayes - Ran using all features remaining after wrangling and explortion.\n",
    "clf_NB = GaussianNB()\n",
    "clf_NB.fit(X_train,y_train) \n",
    "\n",
    "pred = clf_NB.predict(X_test)\n",
    "print(\"Accuracy:\", round(accuracy_score(y_test, pred), 5))"
   ]
  },
  {
   "cell_type": "code",
   "execution_count": 16,
   "metadata": {},
   "outputs": [],
   "source": [
    "X = df_data_Numerical\n",
    "X_train, X_test, y_train, y_test = train_test_split(X, y, test_size=0.15, random_state=23)"
   ]
  },
  {
   "cell_type": "code",
   "execution_count": 17,
   "metadata": {},
   "outputs": [
    {
     "name": "stdout",
     "output_type": "stream",
     "text": [
      "Accuracy: 0.57409\n"
     ]
    }
   ],
   "source": [
    "#Naive Bayes - Ran using only numerical variables.\n",
    "clf_NB = GaussianNB()\n",
    "clf_NB.fit(X_train,y_train) \n",
    "\n",
    "pred = clf_NB.predict(X_test)\n",
    "print(\"Accuracy:\", round(accuracy_score(y_test, pred), 5))"
   ]
  },
  {
   "cell_type": "code",
   "execution_count": 18,
   "metadata": {},
   "outputs": [],
   "source": [
    "X = normalData\n",
    "X_train, X_test, y_train, y_test = train_test_split(X, y, test_size=0.15, random_state=23)"
   ]
  },
  {
   "cell_type": "code",
   "execution_count": 19,
   "metadata": {},
   "outputs": [
    {
     "name": "stdout",
     "output_type": "stream",
     "text": [
      "Accuracy: 0.57409\n"
     ]
    }
   ],
   "source": [
    "#Naive Bayes - Ran using only normalized numerical variables.\n",
    "clf_NB = GaussianNB()\n",
    "clf_NB.fit(X_train,y_train) \n",
    "\n",
    "pred = clf_NB.predict(X_test)\n",
    "print(\"Accuracy:\", round(accuracy_score(y_test, pred), 5))"
   ]
  },
  {
   "cell_type": "code",
   "execution_count": 20,
   "metadata": {},
   "outputs": [],
   "source": [
    "X = df_data_predictors\n",
    "X_train, X_test, y_train, y_test = train_test_split(X, y, test_size=0.15, random_state=23)"
   ]
  },
  {
   "cell_type": "code",
   "execution_count": 21,
   "metadata": {},
   "outputs": [
    {
     "name": "stdout",
     "output_type": "stream",
     "text": [
      "Accuracy: 0.60379\n"
     ]
    }
   ],
   "source": [
    "#Naive Bayes - Ran using top 23 predictors according to K-Best Feature Selection.\n",
    "clf_NB = GaussianNB()\n",
    "clf_NB.fit(X_train,y_train) \n",
    "\n",
    "pred = clf_NB.predict(X_test)\n",
    "print(\"Accuracy:\", round(accuracy_score(y_test, pred), 5))"
   ]
  },
  {
   "cell_type": "code",
   "execution_count": 22,
   "metadata": {},
   "outputs": [],
   "source": [
    "X = df_data_outliers_included\n",
    "X_train, X_test, y_train, y_test = train_test_split(X, y2, test_size=0.15, random_state=23)"
   ]
  },
  {
   "cell_type": "code",
   "execution_count": 23,
   "metadata": {},
   "outputs": [
    {
     "name": "stdout",
     "output_type": "stream",
     "text": [
      "Accuracy: 0.57105\n"
     ]
    }
   ],
   "source": [
    "#Naive Bayes - Ran using all features remaining after wrangling and explortion. Outliers added back to the dataframe to see effect.\n",
    "clf_NB = GaussianNB()\n",
    "clf_NB.fit(X_train,y_train) \n",
    "\n",
    "pred = clf_NB.predict(X_test)\n",
    "print(\"Accuracy:\", round(accuracy_score(y_test, pred), 5))\n"
   ]
  },
  {
   "cell_type": "code",
   "execution_count": 24,
   "metadata": {},
   "outputs": [],
   "source": [
    "X = df_data\n",
    "X_train, X_test, y_train, y_test = train_test_split(X, y, test_size=0.15, random_state=23)"
   ]
  },
  {
   "cell_type": "code",
   "execution_count": 25,
   "metadata": {},
   "outputs": [
    {
     "name": "stdout",
     "output_type": "stream",
     "text": [
      "                 Predicted Disapprove  Predicted Approve\n",
      "True Disapprove                  6700               2992\n",
      "True Approve                     4673               7116\n",
      "\n",
      "Accuracy: 0.64317\n"
     ]
    }
   ],
   "source": [
    "#Naive Bayes - Confusion Matrix for Best Model\n",
    "clf_NB = GaussianNB()\n",
    "clf_NB.fit(X_train,y_train) \n",
    "\n",
    "pred = clf_NB.predict(X_test)\n",
    "\n",
    "#create confusion matrix and print it\n",
    "confusionMatrix = pd.DataFrame(\n",
    "    confusion_matrix(y_test, pred),\n",
    "    columns=['Predicted Disapprove', 'Predicted Approve'],\n",
    "    index=['True Disapprove', 'True Approve']\n",
    ")\n",
    "print(confusionMatrix)\n",
    "print()\n",
    "print(\"Accuracy:\", round(accuracy_score(y_test, pred), 5))\n"
   ]
  },
  {
   "cell_type": "markdown",
   "metadata": {},
   "source": [
    "The Naive Bayes model, unlike decision trees which can be tuned using number of estimators or depth, does not have hyper parameters readily available which can be adjusted for model tuning. The best performing model used all 44 variables which remained after wrangling and creating dummy variables. Confusion Matrix Results Below:\n",
    "\n",
    "Sensitivity:60%\n",
    "Specificity: 69%\n",
    "False Positive: 30%\n",
    "False Negative: 41%\n",
    "Error:35.68%"
   ]
  },
  {
   "cell_type": "code",
   "execution_count": 26,
   "metadata": {},
   "outputs": [],
   "source": [
    "scaler = StandardScaler()\n",
    "scaler.fit(df_data)\n",
    "normalData = scaler.transform(df_data)"
   ]
  },
  {
   "cell_type": "code",
   "execution_count": 27,
   "metadata": {},
   "outputs": [],
   "source": [
    "#Run the principal component analysis\n",
    "pca = PCA()\n",
    "transformedPCA = pca.fit_transform(normalData)"
   ]
  },
  {
   "cell_type": "code",
   "execution_count": 28,
   "metadata": {},
   "outputs": [
    {
     "name": "stdout",
     "output_type": "stream",
     "text": [
      "Explained variance: [5.61656276e+00 4.18679992e+00 3.70969638e+00 3.14821343e+00\n",
      " 2.40284213e+00 2.27945015e+00 2.01867096e+00 1.66447425e+00\n",
      " 1.50180183e+00 1.31065139e+00 1.19508658e+00 1.18159520e+00\n",
      " 1.14435974e+00 1.09624883e+00 1.04890936e+00 1.02267291e+00\n",
      " 1.00710211e+00 9.73137051e-01 9.39678920e-01 8.60236753e-01\n",
      " 8.18694477e-01 7.10878724e-01 6.26397221e-01 5.90729621e-01\n",
      " 5.08074698e-01 4.46173065e-01 4.38243106e-01 3.53473289e-01\n",
      " 3.44560225e-01 3.03569445e-01 2.84329197e-01 2.49924711e-01\n",
      " 2.27639116e-01 2.18044039e-01 1.74676615e-01 1.13237266e-01\n",
      " 9.54219842e-02 6.94334151e-02 5.03263071e-02 3.04546361e-02\n",
      " 2.54892413e-02 7.26226354e-03 5.09092971e-03 1.10767170e-30\n",
      " 1.99465708e-32]\n",
      "Explained variance ratio: [1.24811634e-01 9.30393486e-02 8.24371217e-02 6.99598099e-02\n",
      " 5.33961189e-02 5.06540941e-02 4.48590414e-02 3.69880585e-02\n",
      " 3.33731409e-02 2.91253830e-02 2.65572940e-02 2.62574877e-02\n",
      " 2.54300388e-02 2.43609150e-02 2.33089341e-02 2.27259060e-02\n",
      " 2.23798905e-02 2.16251168e-02 2.08816079e-02 1.91162388e-02\n",
      " 1.81930836e-02 1.57971947e-02 1.39198410e-02 1.31272332e-02\n",
      " 1.12904700e-02 9.91488777e-03 9.73866768e-03 7.85490712e-03\n",
      " 7.65684043e-03 6.74594056e-03 6.31838247e-03 5.55384368e-03\n",
      " 5.05861170e-03 4.84538926e-03 3.88167546e-03 2.51636611e-03\n",
      " 2.12047373e-03 1.54295400e-03 1.11835457e-03 6.76764965e-04\n",
      " 5.66423628e-04 1.61382507e-04 1.13130981e-04 2.46147547e-32\n",
      " 4.43254034e-34]\n",
      "Cumulative explained variance ratio: [0.12481163 0.21785098 0.3002881  0.37024791 0.42364403 0.47429813\n",
      " 0.51915717 0.55614523 0.58951837 0.61864375 0.64520105 0.67145853\n",
      " 0.69688857 0.72124949 0.74455842 0.76728433 0.78966422 0.81128933\n",
      " 0.83217094 0.85128718 0.86948026 0.88527746 0.8991973  0.91232453\n",
      " 0.923615   0.93352989 0.94326856 0.95112347 0.95878031 0.96552625\n",
      " 0.97184463 0.97739847 0.98245708 0.98730247 0.99118415 0.99370052\n",
      " 0.99582099 0.99736394 0.9984823  0.99915906 0.99972549 0.99988687\n",
      " 1.         1.         1.        ]\n",
      "\n",
      "Feature Weights\n",
      "loan_amount_000s applicant_sex applicant_income_000s population minority_population hud_median_family_income tract_to_msamd_income number_of_owner_occupied_units number_of_1_to_4_family_units agency_abbr_FDIC agency_abbr_HUD agency_abbr_NCUA agency_abbr_OCC loan_type_name_FHA-insured loan_type_name_FSA/RHS-guaranteed loan_type_name_VA-guaranteed property_type_name_Multifamily dwelling property_type_name_One-to-four family dwelling (other than manufactured housing) loan_purpose_name_Home purchase loan_purpose_name_Refinancing owner_occupancy_name_Not owner-occupied as a principal dwelling owner_occupancy_name_Owner-occupied as a principal dwelling preapproval_name_Preapproval was not requested preapproval_name_Preapproval was requested applicant_ethnicity_name_Information not provided by applicant in mail, Internet, or telephone application applicant_ethnicity_name_Not Hispanic or Latino applicant_ethnicity_name_Not applicable co_applicant_ethnicity_name_Information not provided by applicant in mail, Internet, or telephone application co_applicant_ethnicity_name_No co-applicant co_applicant_ethnicity_name_Not Hispanic or Latino co_applicant_ethnicity_name_Not applicable applicant_race_name_1_Information not provided by applicant in mail, Internet, or telephone application applicant_race_name_1_Not applicable applicant_race_name_1_White co_applicant_race_name_1_Information not provided by applicant in mail, Internet, or telephone application co_applicant_race_name_1_No co-applicant co_applicant_race_name_1_Not applicable co_applicant_race_name_1_White co_applicant_sex_name_Information not provided by applicant in mail, Internet, or telephone application co_applicant_sex_name_Male co_applicant_sex_name_No co-applicant co_applicant_sex_name_Not applicable hoepa_status_name_Not a HOEPA loan lien_status_name_Secured by a first lien lien_status_name_Secured by a subordinate lien \n",
      "[[1.24929092e-01 2.23804816e-01 1.43945790e-01 ... 4.28036992e-03\n",
      "  2.42778682e-02 1.02108838e-02]\n",
      " [1.31766345e-02 2.33360939e-01 1.05116621e-01 ... 6.37171051e-03\n",
      "  1.77399997e-02 9.75719483e-03]\n",
      " [2.13854673e-02 5.55753915e-02 1.21747390e-01 ... 4.57960475e-03\n",
      "  4.89006219e-02 3.73291803e-02]\n",
      " ...\n",
      " [6.95725180e-04 1.34634103e-03 4.84559219e-04 ... 5.17239367e-03\n",
      "  1.74296834e-04 4.61047819e-04]\n",
      " [2.71654232e-17 3.17542342e-17 3.09195627e-17 ... 8.07124316e-17\n",
      "  6.18748366e-17 8.75822545e-17]\n",
      " [0.00000000e+00 3.38309200e-18 1.03062885e-17 ... 1.28216013e-17\n",
      "  3.78074629e-17 1.08815567e-17]]\n"
     ]
    }
   ],
   "source": [
    "#Run the principal component analysis\n",
    "pca = PCA()\n",
    "transformedPCA = pca.fit_transform(normalData)\n",
    "\n",
    "print(\"Explained variance:\", pca.explained_variance_)\n",
    "print(\"Explained variance ratio:\", pca.explained_variance_ratio_)\n",
    "print(\"Cumulative explained variance ratio:\", pca.explained_variance_ratio_.cumsum())\n",
    "print()\n",
    "\n",
    "#print the feature weights for your data\n",
    "print(\"Feature Weights\")\n",
    "\n",
    "for i in df_data.columns: \n",
    "    print(i, end=' ') \n",
    "\n",
    "print()\n",
    "print(abs( pca.components_ ))\n",
    "\n",
    "#convert feature weights into a dataframe\n",
    "weights = pd.DataFrame(abs(pca.components_))\n",
    "weights.columns = df_data.columns\n"
   ]
  },
  {
   "cell_type": "markdown",
   "metadata": {},
   "source": [
    "We ran the above Principal Component Analysis with above code and imported it to excel file for clearer observation.From the Cumulative explained variance ratio we can see that after the 12th item the difference has fallen down and also it could help explain 77.28% of data. Therefore we would select 12 predictors to our models.  "
   ]
  },
  {
   "cell_type": "code",
   "execution_count": 29,
   "metadata": {},
   "outputs": [],
   "source": [
    "# To import the finding in excel.\n",
    "#writer = pd.ExcelWriter('PCA1.xlsx')\n",
    "#weights.to_excel(writer,index=False)\n",
    "#writer.save()"
   ]
  },
  {
   "cell_type": "markdown",
   "metadata": {},
   "source": [
    "After twelve items, PCA showed a cumulative explained variance of 77.28%. A minimum increase in explained variance was seen after this. Given this, these twelve predictors were seen as crucial in predicting loan approval and are as follows: number_of_owner_occupied_units, co_applicant_ethnicity_name, owner_occupancy_name, loan_purpose_name, lien_status_name,preapproval_name, agency_abbr,ApplicantIncome, hoepa_status_name, hud_median_family_income,loanAmount, and loan_type_name.\n"
   ]
  },
  {
   "cell_type": "markdown",
   "metadata": {},
   "source": [
    "The Decision Tree below was run with the 12 predictors from PCA analysis."
   ]
  },
  {
   "cell_type": "code",
   "execution_count": 30,
   "metadata": {},
   "outputs": [
    {
     "data": {
      "text/plain": [
       "DecisionTreeClassifier()"
      ]
     },
     "execution_count": 30,
     "metadata": {},
     "output_type": "execute_result"
    }
   ],
   "source": [
    "estimator = DecisionTreeClassifier()\n",
    "estimator.fit(X_train, y_train)"
   ]
  },
  {
   "cell_type": "code",
   "execution_count": 31,
   "metadata": {},
   "outputs": [
    {
     "name": "stdout",
     "output_type": "stream",
     "text": [
      "depth gini  entropy\n",
      "8     0.695 0.693\n"
     ]
    }
   ],
   "source": [
    "#This block of code creates a table of 8 different trees, using the Gini and\n",
    "# entropy methods of purity checks, prints the accuracy of model\n",
    "print('depth','gini ','entropy')\n",
    "for i in range(1,9):\n",
    "    dtree = DecisionTreeClassifier(criterion='gini', max_depth=i)\n",
    "    dtree.fit(X_train, y_train)\n",
    "    pred = dtree.predict(X_test)\n",
    "    gini_score = accuracy_score(y_test, pred)\n",
    "     # Entropy method of purity check\n",
    "dtree = DecisionTreeClassifier(criterion='entropy', max_depth=i)\n",
    "dtree.fit(X_train, y_train)\n",
    "pred = dtree.predict(X_test)\n",
    "entropy_score = accuracy_score(y_test, pred)\n",
    " #Using f-string formatting print\n",
    "print(f'{i:<6}{round(gini_score,3):<6}{round(entropy_score,3)}')"
   ]
  },
  {
   "cell_type": "code",
   "execution_count": 32,
   "metadata": {},
   "outputs": [
    {
     "name": "stdout",
     "output_type": "stream",
     "text": [
      "Accuracy: 0.684\n"
     ]
    }
   ],
   "source": [
    "#create the final tree with the suggested depth from the above code block\n",
    "dtree = DecisionTreeClassifier(criterion='entropy', max_depth=5)\n",
    "dtree.fit(X_train, y_train)\n",
    "\n",
    "#test the model and calculate the accuracy of prediction\n",
    "pred = dtree.predict(X_test)\n",
    "print(\"Accuracy:\", round(accuracy_score(y_test, pred),3))"
   ]
  },
  {
   "cell_type": "markdown",
   "metadata": {},
   "source": [
    "Selecting the predictors from PCA and tuning to a depth of 5 achieved an accuracy 68.40% and the following confusion matrix results:\n",
    "\n",
    "Sensitivity:62% Specificity: 74% False Positive: 34% False Negative: 30% Error:31.63%"
   ]
  },
  {
   "cell_type": "code",
   "execution_count": 33,
   "metadata": {},
   "outputs": [
    {
     "name": "stdout",
     "output_type": "stream",
     "text": [
      "                 Predicted Disapprove  Predicted Approve\n",
      "True Disapprove                  5984               3708\n",
      "True Approve                     3086               8703\n",
      "\n"
     ]
    }
   ],
   "source": [
    "#create confusion matrix and print it\n",
    "confusionMatrix = pd.DataFrame(\n",
    "    confusion_matrix(y_test, pred),\n",
    "    columns=['Predicted Disapprove', 'Predicted Approve'],\n",
    "    index=['True Disapprove', 'True Approve']\n",
    ")\n",
    "print(confusionMatrix)\n",
    "print()"
   ]
  },
  {
   "cell_type": "code",
   "execution_count": 34,
   "metadata": {},
   "outputs": [
    {
     "name": "stdout",
     "output_type": "stream",
     "text": [
      "                                            predictor  importance\n",
      "17  property_type_name_One-to-four family dwelling...       0.286\n",
      "18                    loan_purpose_name_Home purchase       0.235\n",
      "9                                    agency_abbr_FDIC       0.207\n",
      "2                               applicant_income_000s       0.072\n",
      "4                                 minority_population       0.052\n",
      "10                                    agency_abbr_HUD       0.031\n",
      "33                        applicant_race_name_1_White       0.029\n",
      "12                                    agency_abbr_OCC       0.029\n",
      "32               applicant_race_name_1_Not applicable       0.018\n",
      "0                                    loan_amount_000s       0.015\n",
      "1                                       applicant_sex       0.013\n",
      "19                      loan_purpose_name_Refinancing       0.007\n",
      "21  owner_occupancy_name_Owner-occupied as a princ...       0.002\n",
      "20  owner_occupancy_name_Not owner-occupied as a p...       0.002\n",
      "42                 hoepa_status_name_Not a HOEPA loan       0.001\n",
      "22     preapproval_name_Preapproval was not requested       0.001\n",
      "7                      number_of_owner_occupied_units       0.001\n",
      "16            property_type_name_Multifamily dwelling       0.000\n",
      "31  applicant_race_name_1_Information not provided...       0.000\n",
      "43           lien_status_name_Secured by a first lien       0.000\n",
      "3                                          population       0.000\n",
      "41               co_applicant_sex_name_Not applicable       0.000\n",
      "40              co_applicant_sex_name_No co-applicant       0.000\n",
      "39                         co_applicant_sex_name_Male       0.000\n",
      "38  co_applicant_sex_name_Information not provided...       0.000\n",
      "37                     co_applicant_race_name_1_White       0.000\n",
      "36            co_applicant_race_name_1_Not applicable       0.000\n",
      "35           co_applicant_race_name_1_No co-applicant       0.000\n",
      "34  co_applicant_race_name_1_Information not provi...       0.000\n",
      "5                            hud_median_family_income       0.000\n",
      "6                               tract_to_msamd_income       0.000\n",
      "30         co_applicant_ethnicity_name_Not applicable       0.000\n",
      "15                       loan_type_name_VA-guaranteed       0.000\n",
      "29  co_applicant_ethnicity_name_Not Hispanic or La...       0.000\n",
      "28        co_applicant_ethnicity_name_No co-applicant       0.000\n",
      "27  co_applicant_ethnicity_name_Information not pr...       0.000\n",
      "26            applicant_ethnicity_name_Not applicable       0.000\n",
      "25    applicant_ethnicity_name_Not Hispanic or Latino       0.000\n",
      "24  applicant_ethnicity_name_Information not provi...       0.000\n",
      "23         preapproval_name_Preapproval was requested       0.000\n",
      "8                       number_of_1_to_4_family_units       0.000\n",
      "11                                   agency_abbr_NCUA       0.000\n",
      "13                         loan_type_name_FHA-insured       0.000\n",
      "14                  loan_type_name_FSA/RHS-guaranteed       0.000\n",
      "44     lien_status_name_Secured by a subordinate lien       0.000\n",
      "\n"
     ]
    }
   ],
   "source": [
    "#create a list of features and orders them \n",
    "importances = pd.DataFrame({'predictor':X_train.columns,'importance':np.round(dtree.feature_importances_,3)})\n",
    "importances = importances.sort_values('importance',ascending=False)\n",
    "print(importances)\n",
    "print()"
   ]
  },
  {
   "cell_type": "code",
   "execution_count": 35,
   "metadata": {},
   "outputs": [],
   "source": [
    "ColNames = df_data.columns"
   ]
  },
  {
   "cell_type": "code",
   "execution_count": 36,
   "metadata": {},
   "outputs": [
    {
     "data": {
      "image/png": "[encoded data removed]",
      "text/plain": [
       "<Figure size 432x288 with 1 Axes>"
      ]
     },
     "metadata": {},
     "output_type": "display_data"
    }
   ],
   "source": [
    "plt.figure()\n",
    "plot_tree(dtree, filled=True, feature_names=ColNames, class_names=['Yes','No'])\n",
    "plt.savefig('TreePlot1.pdf')\n",
    "plt.show()"
   ]
  },
  {
   "cell_type": "markdown",
   "metadata": {},
   "source": [
    "**Random Forest Classifier**"
   ]
  },
  {
   "cell_type": "code",
   "execution_count": 37,
   "metadata": {},
   "outputs": [],
   "source": [
    "#Create a Gaussian Classifier\n",
    "clf=RandomForestClassifier(n_estimators=10)\n",
    "\n",
    "#Train the model using the training sets y_pred=clf.predict(X_test)\n",
    "clf.fit(X_train,y_train)\n",
    "y_pred=clf.predict(X_test)"
   ]
  },
  {
   "cell_type": "code",
   "execution_count": 38,
   "metadata": {},
   "outputs": [],
   "source": [
    "X=df_data\n",
    "X_train, X_test, y_train, y_test = train_test_split(X, y, test_size=0.15, random_state=23)"
   ]
  },
  {
   "cell_type": "code",
   "execution_count": 39,
   "metadata": {},
   "outputs": [
    {
     "name": "stdout",
     "output_type": "stream",
     "text": [
      "Accuracy: 0.70169\n"
     ]
    }
   ],
   "source": [
    "#Random Forest - Model intialized and ran using all features remaining after wrangling and explortion. No tuning or further feature selection performed.  \n",
    "dtree = RandomForestClassifier(criterion='entropy', max_depth=(18)) # limited to five for calc time purposes\n",
    "dtree.fit(X_train, y_train)\n",
    "\n",
    "pred = dtree.predict(X_test)\n",
    "print(\"Accuracy:\", round(accuracy_score(y_test, pred), 5))"
   ]
  },
  {
   "cell_type": "code",
   "execution_count": 40,
   "metadata": {},
   "outputs": [],
   "source": [
    "X = df_data_Numerical\n",
    "X_train, X_test, y_train, y_test = train_test_split(X, y, test_size=0.15, random_state=23)"
   ]
  },
  {
   "cell_type": "code",
   "execution_count": 41,
   "metadata": {},
   "outputs": [
    {
     "name": "stdout",
     "output_type": "stream",
     "text": [
      "Accuracy: 0.62274\n"
     ]
    }
   ],
   "source": [
    "#Random Forest - Ran using only numerical variables.\n",
    "dtree = RandomForestClassifier(criterion='entropy', max_depth=(18)) # limited to five for calc time purposes\n",
    "dtree.fit(X_train, y_train)\n",
    "\n",
    "pred = dtree.predict(X_test)\n",
    "print(\"Accuracy:\", round(accuracy_score(y_test, pred), 5))"
   ]
  },
  {
   "cell_type": "code",
   "execution_count": 42,
   "metadata": {},
   "outputs": [],
   "source": [
    "X = normalData\n",
    "X_train, X_test, y_train, y_test = train_test_split(X, y, test_size=0.15, random_state=23)"
   ]
  },
  {
   "cell_type": "code",
   "execution_count": 43,
   "metadata": {},
   "outputs": [
    {
     "name": "stdout",
     "output_type": "stream",
     "text": [
      "Accuracy: 0.70136\n"
     ]
    }
   ],
   "source": [
    "#Random Forest - Ran using only normalized numerical variables.\n",
    "dtree = RandomForestClassifier(criterion='entropy', max_depth=(18)) # limited to five for calc time purposes\n",
    "dtree.fit(X_train, y_train)\n",
    "\n",
    "pred = dtree.predict(X_test)\n",
    "print(\"Accuracy:\", round(accuracy_score(y_test, pred), 5))"
   ]
  },
  {
   "cell_type": "code",
   "execution_count": 44,
   "metadata": {},
   "outputs": [],
   "source": [
    "X = df_data_predictors\n",
    "X_train, X_test, y_train, y_test = train_test_split(X, y, test_size=0.15, random_state=23)"
   ]
  },
  {
   "cell_type": "code",
   "execution_count": 45,
   "metadata": {},
   "outputs": [
    {
     "name": "stdout",
     "output_type": "stream",
     "text": [
      "Accuracy: 0.64313\n"
     ]
    }
   ],
   "source": [
    "#Random Forest - Ran using top 23 predictors according to K-Best Feature Selection.\n",
    "dtree = RandomForestClassifier(criterion='entropy', max_depth=(18)) # limited to five for calc time purposes\n",
    "dtree.fit(X_train, y_train)\n",
    "\n",
    "pred = dtree.predict(X_test)\n",
    "print(\"Accuracy:\", round(accuracy_score(y_test, pred), 5))"
   ]
  },
  {
   "cell_type": "code",
   "execution_count": 46,
   "metadata": {},
   "outputs": [],
   "source": [
    "X = df_data_outliers_included\n",
    "X_train, X_test, y_train, y_test = train_test_split(X, y2, test_size=0.15, random_state=23)"
   ]
  },
  {
   "cell_type": "code",
   "execution_count": 47,
   "metadata": {},
   "outputs": [
    {
     "name": "stdout",
     "output_type": "stream",
     "text": [
      "Accuracy: 0.70438\n"
     ]
    }
   ],
   "source": [
    "#Random Forest - Ran using all features remaining after wrangling and explortion. Outliers added back to the dataframe to see effect.\n",
    "dtree = RandomForestClassifier(criterion='entropy', max_depth=(18)) # limited to five for calc time purposes\n",
    "dtree.fit(X_train, y_train)\n",
    "\n",
    "pred = dtree.predict(X_test)\n",
    "print(\"Accuracy:\", round(accuracy_score(y_test, pred), 5))"
   ]
  },
  {
   "cell_type": "code",
   "execution_count": 48,
   "metadata": {},
   "outputs": [
    {
     "name": "stdout",
     "output_type": "stream",
     "text": [
      "Accuracy: 0.70582\n",
      "                 Predicted Disapprove  Predicted Approve\n",
      "True Disapprove                  5938               3914\n",
      "True Approve                     2661               9837\n",
      "\n",
      "Accuracy: 0.70582\n"
     ]
    }
   ],
   "source": [
    "#Random Forest - Confusion Matrix for Best Model\n",
    "dtree = RandomForestClassifier(criterion='entropy', max_depth=(18)) # limited to five for calc time purposes\n",
    "dtree.fit(X_train, y_train)\n",
    "\n",
    "pred = dtree.predict(X_test)\n",
    "print(\"Accuracy:\", round(accuracy_score(y_test, pred), 5))\n",
    "\n",
    "#create confusion matrix and print it\n",
    "confusionMatrix = pd.DataFrame(\n",
    "    confusion_matrix(y_test, pred),\n",
    "    columns=['Predicted Disapprove', 'Predicted Approve'],\n",
    "    index=['True Disapprove', 'True Approve']\n",
    ")\n",
    "print(confusionMatrix)\n",
    "print()\n",
    "print(\"Accuracy:\", round(accuracy_score(y_test, pred), 5))"
   ]
  },
  {
   "cell_type": "markdown",
   "metadata": {},
   "source": [
    "The best performing model using the Random Forest, used all 44 variables which remained after wrangling and creating dummy variables, along with the outliers being added back to the dataframe. Confusion Matrix Results Below:\n",
    "\n",
    "Sensitivity:78% Specificity: 60% False Positive: 28% False Negative: 31% Error:29.53%\n",
    "\n"
   ]
  },
  {
   "cell_type": "markdown",
   "metadata": {},
   "source": [
    "**Randomized Search for Hyperparameters in Random Forest**"
   ]
  },
  {
   "cell_type": "code",
   "execution_count": 49,
   "metadata": {},
   "outputs": [],
   "source": [
    "from sklearn.model_selection import RandomizedSearchCV  "
   ]
  },
  {
   "cell_type": "code",
   "execution_count": 50,
   "metadata": {},
   "outputs": [],
   "source": [
    "param_grid = {\n",
    "    'bootstrap': [True],\n",
    "    'max_depth': [8, 10, 12, 14, 16, 18, 20],\n",
    "    'max_features': [1, 2],\n",
    "#     'min_samples_leaf': [3, 4, 5],\n",
    "#     'min_samples_split': [8, 10, 12],\n",
    "    'n_estimators': [10, 25, 50, 75, 100, 200]\n",
    "}"
   ]
  },
  {
   "cell_type": "code",
   "execution_count": 51,
   "metadata": {},
   "outputs": [],
   "source": [
    "model = RandomForestRegressor()"
   ]
  },
  {
   "cell_type": "code",
   "execution_count": 52,
   "metadata": {},
   "outputs": [],
   "source": [
    "model_random = RandomizedSearchCV(estimator = model, param_distributions = param_grid, n_iter = 30, \n",
    "                                  cv = 5, verbose=2, random_state=23, n_jobs = -1)"
   ]
  },
  {
   "cell_type": "code",
   "execution_count": null,
   "metadata": {},
   "outputs": [
    {
     "name": "stdout",
     "output_type": "stream",
     "text": [
      "Fitting 5 folds for each of 30 candidates, totalling 150 fits\n"
     ]
    },
    {
     "name": "stderr",
     "output_type": "stream",
     "text": [
      "[Parallel(n_jobs=-1)]: Using backend LokyBackend with 8 concurrent workers.\n",
      "[Parallel(n_jobs=-1)]: Done  25 tasks      | elapsed:   42.3s\n"
     ]
    }
   ],
   "source": [
    "# Fit the random search model\n",
    "model_random.fit(X_train, y_train)"
   ]
  },
  {
   "cell_type": "code",
   "execution_count": null,
   "metadata": {},
   "outputs": [],
   "source": [
    "model_random.best_params_"
   ]
  },
  {
   "cell_type": "code",
   "execution_count": null,
   "metadata": {},
   "outputs": [],
   "source": [
    "#Create a Gaussian Classifier with new hyper parameters\n",
    "clf=RandomForestClassifier(n_estimators=100, max_features=2, bootstrap='True')\n",
    "\n",
    "#Train the model using the training sets y_pred=clf.predict(X_test)\n",
    "clf.fit(X_train,y_train)\n",
    "y_pred=clf.predict(X_test)\n",
    "\n",
    "#Random Forest - Confusion Matrix for Best Model\n",
    "dtree = RandomForestClassifier(criterion='entropy', max_depth=(20)) # limited to five for calc time purposes\n",
    "dtree.fit(X_train, y_train)\n",
    "\n",
    "pred = dtree.predict(X_test)\n",
    "print(\"Accuracy:\", round(accuracy_score(y_test, pred), 5))\n",
    "\n",
    "#create confusion matrix and print it\n",
    "confusionMatrix = pd.DataFrame(\n",
    "    confusion_matrix(y_test, pred),\n",
    "    columns=['Predicted Disapprove', 'Predicted Approve'],\n",
    "    index=['True Disapprove', 'True Approve']\n",
    ")\n",
    "print(confusionMatrix)\n",
    "print()\n",
    "print(\"Accuracy:\", round(accuracy_score(y_test, pred), 5))\n"
   ]
  },
  {
   "cell_type": "markdown",
   "metadata": {},
   "source": [
    " Confusion Matrix Results Below:\n",
    "\n",
    "Sensitivity:79% Specificity: 60% False Positive: 28% False Negative: 31% Error:29.46%"
   ]
  },
  {
   "cell_type": "markdown",
   "metadata": {},
   "source": [
    "After tuning our Random Forest model we were able to develop a model with 70.60 % accurate which has the highest accuracy rate amoung our model. We have also selected the most appropriate feature in this model with the help of other models we developed. Therefore we would approach our Tuned Random Forest model as the best model we developed."
   ]
  }
 ],
 "metadata": {
  "kernelspec": {
   "display_name": "Python 3",
   "language": "python",
   "name": "python3"
  },
  "language_info": {
   "codemirror_mode": {
    "name": "ipython",
    "version": 3
   },
   "file_extension": ".py",
   "mimetype": "text/x-python",
   "name": "python",
   "nbconvert_exporter": "python",
   "pygments_lexer": "ipython3",
   "version": "3.8.5"
  }
 },
 "nbformat": 4,
 "nbformat_minor": 4
}
